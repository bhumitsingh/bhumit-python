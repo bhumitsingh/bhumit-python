{
 "cells": [
  {
   "cell_type": "markdown",
   "metadata": {},
   "source": [
    "# Memory Management in Python\n",
    "Memory Management in Pyhton involves a combination of automatic garbage collection, reference counting, and various internal optimizations to efficiently manage memory allocation and deallocation. understanding these mechanisms can help developers write more efficient and robust applications."
   ]
  },
  {
   "cell_type": "markdown",
   "metadata": {},
   "source": [
    "### Reference Counting\n",
    "Reference counting is the primary method Python uses to manage memory. Each object is Python maintains a count of reference pointing to it. When the reference count drops to zero, the memory occupied by the object is deallocated."
   ]
  },
  {
   "cell_type": "code",
   "execution_count": 1,
   "metadata": {},
   "outputs": [
    {
     "name": "stdout",
     "output_type": "stream",
     "text": [
      "2\n"
     ]
    }
   ],
   "source": [
    "import sys\n",
    "\n",
    "a = []\n",
    "\n",
    "# Output 2 is because of one ref from 'a' and one ref from 'getrefcount'\n",
    "print(sys.getrefcount(a))"
   ]
  },
  {
   "cell_type": "code",
   "execution_count": 3,
   "metadata": {},
   "outputs": [
    {
     "name": "stdout",
     "output_type": "stream",
     "text": [
      "3\n"
     ]
    }
   ],
   "source": [
    "b = a\n",
    "print(sys.getrefcount(b))"
   ]
  },
  {
   "cell_type": "code",
   "execution_count": 4,
   "metadata": {},
   "outputs": [
    {
     "name": "stdout",
     "output_type": "stream",
     "text": [
      "2\n"
     ]
    }
   ],
   "source": [
    "del b\n",
    "print(sys.getrefcount(a))"
   ]
  },
  {
   "cell_type": "markdown",
   "metadata": {},
   "source": [
    "#### Garbage Collection\n",
    "Python includes a cyclic garbage collector to handle reference cycles. Reference cycles occur when objects reference each other, preventing their reference counts from reaching zero."
   ]
  },
  {
   "cell_type": "code",
   "execution_count": 5,
   "metadata": {},
   "outputs": [],
   "source": [
    "import gc\n",
    "\n",
    "## enable garbage collection\n",
    "gc.enable()\n",
    "\n"
   ]
  },
  {
   "cell_type": "code",
   "execution_count": 6,
   "metadata": {},
   "outputs": [],
   "source": [
    "gc.disable()"
   ]
  },
  {
   "cell_type": "code",
   "execution_count": 7,
   "metadata": {},
   "outputs": [
    {
     "data": {
      "text/plain": [
       "494"
      ]
     },
     "execution_count": 7,
     "metadata": {},
     "output_type": "execute_result"
    }
   ],
   "source": [
    "gc.collect()"
   ]
  },
  {
   "cell_type": "code",
   "execution_count": 8,
   "metadata": {},
   "outputs": [
    {
     "name": "stdout",
     "output_type": "stream",
     "text": [
      "[{'collections': 180, 'collected': 1483, 'uncollectable': 0}, {'collections': 16, 'collected': 384, 'uncollectable': 0}, {'collections': 2, 'collected': 494, 'uncollectable': 0}]\n"
     ]
    }
   ],
   "source": [
    "### get garbage collection stats\n",
    "print(gc.get_stats())"
   ]
  },
  {
   "cell_type": "code",
   "execution_count": 9,
   "metadata": {},
   "outputs": [
    {
     "name": "stdout",
     "output_type": "stream",
     "text": [
      "[]\n"
     ]
    }
   ],
   "source": [
    "### get unreachable objects\n",
    "print(gc.garbage)"
   ]
  },
  {
   "cell_type": "markdown",
   "metadata": {},
   "source": [
    "#### Memory Management Best Practices\n",
    "1. Use Local Variables: Local variables have a shorter lifespan and are freed sooner than global variables.\n",
    "2. Avoid Circular References: Circular references can lead to memory leaks if not properly managed.\n",
    "3. Use Generators: Generators produce items one at a time and only keep one item in memory at a time, making them memory efficient.\n",
    "4. Explicitly Delete Objects: Use the del statement to delete variables and objects explicitly.\n",
    "5. Profile Memory Usage: Use memory profiling tools like tracemalloc and memory_profiler to identify memory leaks and optimize memory usage."
   ]
  },
  {
   "cell_type": "code",
   "execution_count": 13,
   "metadata": {},
   "outputs": [
    {
     "name": "stdout",
     "output_type": "stream",
     "text": [
      "Object A is created\n",
      "Object B is created\n",
      "Object A is deleted\n",
      "Object B is deleted\n",
      "Object A is deleted\n",
      "Object B is deleted\n",
      "Object A is deleted\n",
      "Object B is deleted\n"
     ]
    },
    {
     "data": {
      "text/plain": [
       "272"
      ]
     },
     "execution_count": 13,
     "metadata": {},
     "output_type": "execute_result"
    }
   ],
   "source": [
    "## Handling Circular Generators\n",
    "import gc\n",
    "\n",
    "class MyObject:\n",
    "    def __init__(self,name):\n",
    "        self.name = name\n",
    "        print(f\"Object {self.name} is created\")\n",
    "    def __del__(self):\n",
    "        print(f\"Object {self.name} is deleted\")\n",
    "\n",
    "### Create circular reference\n",
    "a = MyObject(\"A\")\n",
    "b = MyObject(\"B\")\n",
    "a.ref = b\n",
    "b.ref = a\n",
    "\n",
    "del a\n",
    "del b\n",
    "\n",
    "## Manually trigger the garbage collection\n",
    "gc.collect()"
   ]
  },
  {
   "cell_type": "code",
   "execution_count": 14,
   "metadata": {},
   "outputs": [
    {
     "name": "stdout",
     "output_type": "stream",
     "text": [
      "0\n",
      "1\n",
      "2\n",
      "3\n",
      "4\n",
      "5\n",
      "6\n",
      "7\n",
      "8\n",
      "9\n",
      "10\n",
      "11\n"
     ]
    }
   ],
   "source": [
    "## Generators For Memory Efficiency\n",
    "#Generators allow you to produce items one at a time, using memory efficiently by only keeping one item in memory at a time.\n",
    "\n",
    "def generate_numbers(n):\n",
    "    for i in range(n):\n",
    "        yield i\n",
    "\n",
    "## using the generator\n",
    "for num in generate_numbers(100000):\n",
    "    print(num)\n",
    "    if num>10:\n",
    "        break"
   ]
  },
  {
   "cell_type": "code",
   "execution_count": 17,
   "metadata": {},
   "outputs": [],
   "source": [
    "## Profiling Memory Usage with tracemalloc\n",
    "import tracemalloc\n",
    "\n",
    "def create_list():\n",
    "    return [i for i in range(10000)]\n",
    "\n",
    "def main():\n",
    "    tracemalloc.start()\n",
    "    \n",
    "    create_list()\n",
    "    \n",
    "    snapshot = tracemalloc.take_snapshot()\n",
    "    top_stats = snapshot.statistics('lineno')\n",
    "    \n",
    "    print(\"[ Top 10 ]\")\n",
    "    for stat in top_stats[::]:\n",
    "        print(stat)"
   ]
  },
  {
   "cell_type": "code",
   "execution_count": 18,
   "metadata": {},
   "outputs": [
    {
     "name": "stdout",
     "output_type": "stream",
     "text": [
      "[ Top 10 ]\n",
      "C:\\Program Files\\WindowsApps\\PythonSoftwareFoundation.Python.3.12_3.12.2288.0_x64__qbz5n2kfra8p0\\Lib\\json\\decoder.py:354: size=2638 B, count=35, average=75 B\n",
      "c:\\Users\\bhumi\\Documents\\bhumit-python\\myenv\\Lib\\site-packages\\traitlets\\traitlets.py:731: size=1554 B, count=25, average=62 B\n",
      "C:\\Program Files\\WindowsApps\\PythonSoftwareFoundation.Python.3.12_3.12.2288.0_x64__qbz5n2kfra8p0\\Lib\\codeop.py:126: size=1388 B, count=12, average=116 B\n",
      "c:\\Users\\bhumi\\Documents\\bhumit-python\\myenv\\Lib\\site-packages\\traitlets\\traitlets.py:1543: size=1333 B, count=22, average=61 B\n",
      "c:\\Users\\bhumi\\Documents\\bhumit-python\\myenv\\Lib\\site-packages\\IPython\\core\\compilerop.py:174: size=1294 B, count=19, average=68 B\n",
      "c:\\Users\\bhumi\\Documents\\bhumit-python\\myenv\\Lib\\site-packages\\zmq\\sugar\\attrsettr.py:45: size=1269 B, count=27, average=47 B\n",
      "c:\\Users\\bhumi\\Documents\\bhumit-python\\myenv\\Lib\\site-packages\\traitlets\\traitlets.py:1514: size=1200 B, count=10, average=120 B\n",
      "c:\\Users\\bhumi\\Documents\\bhumit-python\\myenv\\Lib\\site-packages\\zmq\\sugar\\socket.py:805: size=1056 B, count=6, average=176 B\n",
      "c:\\Users\\bhumi\\Documents\\bhumit-python\\myenv\\Lib\\site-packages\\jupyter_client\\jsonutil.py:111: size=900 B, count=18, average=50 B\n",
      "c:\\Users\\bhumi\\Documents\\bhumit-python\\myenv\\Lib\\site-packages\\IPython\\core\\compilerop.py:86: size=851 B, count=11, average=77 B\n",
      "c:\\Users\\bhumi\\Documents\\bhumit-python\\myenv\\Lib\\site-packages\\jupyter_client\\session.py:1057: size=811 B, count=6, average=135 B\n",
      "C:\\Program Files\\WindowsApps\\PythonSoftwareFoundation.Python.3.12_3.12.2288.0_x64__qbz5n2kfra8p0\\Lib\\threading.py:293: size=760 B, count=2, average=380 B\n",
      "c:\\Users\\bhumi\\Documents\\bhumit-python\\myenv\\Lib\\site-packages\\jupyter_client\\session.py:100: size=630 B, count=4, average=158 B\n",
      "c:\\Users\\bhumi\\Documents\\bhumit-python\\myenv\\Lib\\site-packages\\IPython\\core\\history.py:836: size=608 B, count=7, average=87 B\n",
      "C:\\Program Files\\WindowsApps\\PythonSoftwareFoundation.Python.3.12_3.12.2288.0_x64__qbz5n2kfra8p0\\Lib\\asyncio\\events.py:88: size=520 B, count=6, average=87 B\n",
      "c:\\Users\\bhumi\\Documents\\bhumit-python\\myenv\\Lib\\site-packages\\IPython\\core\\interactiveshell.py:3104: size=520 B, count=4, average=130 B\n",
      "c:\\Users\\bhumi\\Documents\\bhumit-python\\myenv\\Lib\\site-packages\\ipykernel\\iostream.py:276: size=488 B, count=5, average=98 B\n",
      "c:\\Users\\bhumi\\Documents\\bhumit-python\\myenv\\Lib\\site-packages\\IPython\\core\\history.py:782: size=440 B, count=2, average=220 B\n",
      "c:\\Users\\bhumi\\Documents\\bhumit-python\\myenv\\Lib\\site-packages\\ipykernel\\kernelbase.py:775: size=424 B, count=2, average=212 B\n",
      "C:\\Program Files\\WindowsApps\\PythonSoftwareFoundation.Python.3.12_3.12.2288.0_x64__qbz5n2kfra8p0\\Lib\\asyncio\\base_events.py:814: size=416 B, count=4, average=104 B\n",
      "c:\\Users\\bhumi\\Documents\\bhumit-python\\myenv\\Lib\\site-packages\\jupyter_client\\jsonutil.py:75: size=416 B, count=2, average=208 B\n",
      "c:\\Users\\bhumi\\Documents\\bhumit-python\\myenv\\Lib\\site-packages\\ipykernel\\iostream.py:287: size=392 B, count=5, average=78 B\n",
      "c:\\Users\\bhumi\\Documents\\bhumit-python\\myenv\\Lib\\site-packages\\IPython\\core\\interactiveshell.py:3334: size=376 B, count=1, average=376 B\n",
      "c:\\Users\\bhumi\\Documents\\bhumit-python\\myenv\\Lib\\site-packages\\ipykernel\\iostream.py:346: size=360 B, count=5, average=72 B\n",
      "c:\\Users\\bhumi\\Documents\\bhumit-python\\myenv\\Lib\\site-packages\\ipykernel\\ipkernel.py:362: size=360 B, count=1, average=360 B\n",
      "c:\\Users\\bhumi\\Documents\\bhumit-python\\myenv\\Lib\\site-packages\\tornado\\platform\\asyncio.py:235: size=352 B, count=5, average=70 B\n",
      "c:\\Users\\bhumi\\Documents\\bhumit-python\\myenv\\Lib\\site-packages\\IPython\\core\\interactiveshell.py:3517: size=296 B, count=1, average=296 B\n",
      "c:\\Users\\bhumi\\Documents\\bhumit-python\\myenv\\Lib\\site-packages\\tornado\\queues.py:248: size=288 B, count=2, average=144 B\n",
      "C:\\Program Files\\WindowsApps\\PythonSoftwareFoundation.Python.3.12_3.12.2288.0_x64__qbz5n2kfra8p0\\Lib\\asyncio\\base_events.py:448: size=288 B, count=2, average=144 B\n",
      "C:\\Program Files\\WindowsApps\\PythonSoftwareFoundation.Python.3.12_3.12.2288.0_x64__qbz5n2kfra8p0\\Lib\\threading.py:290: size=280 B, count=2, average=140 B\n",
      "c:\\Users\\bhumi\\Documents\\bhumit-python\\myenv\\Lib\\site-packages\\ipykernel\\iostream.py:527: size=272 B, count=4, average=68 B\n",
      "c:\\Users\\bhumi\\Documents\\bhumit-python\\myenv\\Lib\\site-packages\\ipykernel\\kernelbase.py:534: size=264 B, count=1, average=264 B\n",
      "c:\\Users\\bhumi\\Documents\\bhumit-python\\myenv\\Lib\\site-packages\\ipykernel\\kernelbase.py:435: size=248 B, count=1, average=248 B\n",
      "c:\\Users\\bhumi\\Documents\\bhumit-python\\myenv\\Lib\\site-packages\\ipykernel\\iostream.py:121: size=248 B, count=1, average=248 B\n",
      "C:\\Program Files\\WindowsApps\\PythonSoftwareFoundation.Python.3.12_3.12.2288.0_x64__qbz5n2kfra8p0\\Lib\\logging\\__init__.py:1622: size=240 B, count=1, average=240 B\n",
      "c:\\Users\\bhumi\\Documents\\bhumit-python\\myenv\\Lib\\site-packages\\ipykernel\\kernelbase.py:545: size=232 B, count=1, average=232 B\n",
      "c:\\Users\\bhumi\\Documents\\bhumit-python\\myenv\\Lib\\site-packages\\ipykernel\\zmqshell.py:549: size=224 B, count=3, average=75 B\n",
      "C:\\Program Files\\WindowsApps\\PythonSoftwareFoundation.Python.3.12_3.12.2288.0_x64__qbz5n2kfra8p0\\Lib\\asyncio\\futures.py:389: size=224 B, count=2, average=112 B\n",
      "c:\\Users\\bhumi\\Documents\\bhumit-python\\myenv\\Lib\\site-packages\\IPython\\core\\interactiveshell.py:3223: size=208 B, count=4, average=52 B\n",
      "c:\\Users\\bhumi\\Documents\\bhumit-python\\myenv\\Lib\\site-packages\\jupyter_client\\session.py:1085: size=208 B, count=1, average=208 B\n",
      "c:\\Users\\bhumi\\Documents\\bhumit-python\\myenv\\Lib\\site-packages\\ipykernel\\kernelbase.py:770: size=208 B, count=1, average=208 B\n",
      "c:\\Users\\bhumi\\Documents\\bhumit-python\\myenv\\Lib\\site-packages\\ipykernel\\compiler.py:91: size=205 B, count=2, average=102 B\n",
      "C:\\Program Files\\WindowsApps\\PythonSoftwareFoundation.Python.3.12_3.12.2288.0_x64__qbz5n2kfra8p0\\Lib\\asyncio\\futures.py:420: size=200 B, count=5, average=40 B\n",
      "c:\\Users\\bhumi\\Documents\\bhumit-python\\myenv\\Lib\\site-packages\\zmq\\sugar\\socket.py:802: size=184 B, count=2, average=92 B\n",
      "c:\\Users\\bhumi\\Documents\\bhumit-python\\myenv\\Lib\\site-packages\\IPython\\core\\interactiveshell.py:3224: size=176 B, count=4, average=44 B\n",
      "c:\\Users\\bhumi\\Documents\\bhumit-python\\myenv\\Lib\\site-packages\\zmq\\eventloop\\zmqstream.py:694: size=160 B, count=1, average=160 B\n",
      "c:\\Users\\bhumi\\Documents\\bhumit-python\\myenv\\Lib\\site-packages\\ipykernel\\kernelbase.py:570: size=160 B, count=1, average=160 B\n",
      "c:\\Users\\bhumi\\Documents\\bhumit-python\\myenv\\Lib\\site-packages\\IPython\\core\\interactiveshell.py:3577: size=160 B, count=1, average=160 B\n",
      "c:\\Users\\bhumi\\Documents\\bhumit-python\\myenv\\Lib\\site-packages\\IPython\\core\\interactiveshell.py:3493: size=160 B, count=1, average=160 B\n",
      "c:\\Users\\bhumi\\Documents\\bhumit-python\\myenv\\Lib\\site-packages\\IPython\\core\\interactiveshell.py:3237: size=160 B, count=1, average=160 B\n",
      "C:\\Users\\bhumi\\AppData\\Local\\Temp\\ipykernel_9108\\3750029790.py:7: size=160 B, count=1, average=160 B\n",
      "C:\\Users\\bhumi\\AppData\\Local\\Temp\\ipykernel_9108\\3750029790.py:4: size=160 B, count=1, average=160 B\n",
      "C:\\Program Files\\WindowsApps\\PythonSoftwareFoundation.Python.3.12_3.12.2288.0_x64__qbz5n2kfra8p0\\Lib\\asyncio\\futures.py:396: size=160 B, count=1, average=160 B\n",
      "C:\\Program Files\\WindowsApps\\PythonSoftwareFoundation.Python.3.12_3.12.2288.0_x64__qbz5n2kfra8p0\\Lib\\asyncio\\futures.py:383: size=160 B, count=1, average=160 B\n",
      "c:\\Users\\bhumi\\Documents\\bhumit-python\\myenv\\Lib\\site-packages\\ipykernel\\iostream.py:722: size=144 B, count=2, average=72 B\n",
      "c:\\Users\\bhumi\\Documents\\bhumit-python\\myenv\\Lib\\site-packages\\IPython\\core\\interactiveshell.py:3509: size=120 B, count=3, average=40 B\n",
      "c:\\Users\\bhumi\\Documents\\bhumit-python\\myenv\\Lib\\site-packages\\ipykernel\\kernelbase.py:318: size=120 B, count=2, average=60 B\n",
      "C:\\Program Files\\WindowsApps\\PythonSoftwareFoundation.Python.3.12_3.12.2288.0_x64__qbz5n2kfra8p0\\Lib\\threading.py:135: size=120 B, count=2, average=60 B\n",
      "C:\\Program Files\\WindowsApps\\PythonSoftwareFoundation.Python.3.12_3.12.2288.0_x64__qbz5n2kfra8p0\\Lib\\inspect.py:266: size=120 B, count=1, average=120 B\n",
      "C:\\Program Files\\WindowsApps\\PythonSoftwareFoundation.Python.3.12_3.12.2288.0_x64__qbz5n2kfra8p0\\Lib\\asyncio\\base_events.py:777: size=120 B, count=1, average=120 B\n",
      "c:\\Users\\bhumi\\Documents\\bhumit-python\\myenv\\Lib\\site-packages\\jupyter_client\\session.py:989: size=111 B, count=2, average=56 B\n",
      "c:\\Users\\bhumi\\Documents\\bhumit-python\\myenv\\Lib\\site-packages\\jupyter_client\\session.py:688: size=97 B, count=1, average=97 B\n",
      "c:\\Users\\bhumi\\Documents\\bhumit-python\\myenv\\Lib\\site-packages\\dateutil\\parser\\isoparser.py:146: size=96 B, count=2, average=48 B\n",
      "c:\\Users\\bhumi\\Documents\\bhumit-python\\myenv\\Lib\\site-packages\\IPython\\core\\interactiveshell.py:3375: size=96 B, count=2, average=48 B\n",
      "c:\\Users\\bhumi\\Documents\\bhumit-python\\myenv\\Lib\\site-packages\\jupyter_client\\session.py:750: size=96 B, count=1, average=96 B\n",
      "c:\\Users\\bhumi\\Documents\\bhumit-python\\myenv\\Lib\\site-packages\\IPython\\core\\history.py:805: size=90 B, count=2, average=45 B\n",
      "c:\\Users\\bhumi\\Documents\\bhumit-python\\myenv\\Lib\\site-packages\\ipykernel\\kernelbase.py:1182: size=90 B, count=1, average=90 B\n",
      "c:\\Users\\bhumi\\Documents\\bhumit-python\\myenv\\Lib\\site-packages\\IPython\\core\\history.py:851: size=72 B, count=1, average=72 B\n",
      "c:\\Users\\bhumi\\Documents\\bhumit-python\\myenv\\Lib\\site-packages\\IPython\\core\\history.py:834: size=72 B, count=1, average=72 B\n",
      "c:\\Users\\bhumi\\Documents\\bhumit-python\\myenv\\Lib\\site-packages\\IPython\\core\\compilerop.py:171: size=72 B, count=1, average=72 B\n",
      "C:\\Program Files\\WindowsApps\\PythonSoftwareFoundation.Python.3.12_3.12.2288.0_x64__qbz5n2kfra8p0\\Lib\\threading.py:292: size=72 B, count=1, average=72 B\n",
      "C:\\Program Files\\WindowsApps\\PythonSoftwareFoundation.Python.3.12_3.12.2288.0_x64__qbz5n2kfra8p0\\Lib\\threading.py:288: size=72 B, count=1, average=72 B\n",
      "C:\\Program Files\\WindowsApps\\PythonSoftwareFoundation.Python.3.12_3.12.2288.0_x64__qbz5n2kfra8p0\\Lib\\threading.py:283: size=72 B, count=1, average=72 B\n",
      "C:\\Program Files\\WindowsApps\\PythonSoftwareFoundation.Python.3.12_3.12.2288.0_x64__qbz5n2kfra8p0\\Lib\\threading.py:282: size=72 B, count=1, average=72 B\n",
      "C:\\Program Files\\WindowsApps\\PythonSoftwareFoundation.Python.3.12_3.12.2288.0_x64__qbz5n2kfra8p0\\Lib\\asyncio\\base_events.py:1976: size=64 B, count=2, average=32 B\n",
      "c:\\Users\\bhumi\\Documents\\bhumit-python\\myenv\\Lib\\site-packages\\zmq\\sugar\\socket.py:806: size=64 B, count=1, average=64 B\n",
      "c:\\Users\\bhumi\\Documents\\bhumit-python\\myenv\\Lib\\site-packages\\ipykernel\\kernelbase.py:69: size=64 B, count=1, average=64 B\n",
      "c:\\Users\\bhumi\\Documents\\bhumit-python\\myenv\\Lib\\site-packages\\ipykernel\\ipkernel.py:384: size=64 B, count=1, average=64 B\n",
      "c:\\Users\\bhumi\\Documents\\bhumit-python\\myenv\\Lib\\site-packages\\ipykernel\\ipkernel.py:383: size=64 B, count=1, average=64 B\n",
      "c:\\Users\\bhumi\\Documents\\bhumit-python\\myenv\\Lib\\site-packages\\ipykernel\\ipkernel.py:294: size=64 B, count=1, average=64 B\n",
      "c:\\Users\\bhumi\\Documents\\bhumit-python\\myenv\\Lib\\site-packages\\ipykernel\\ipkernel.py:291: size=64 B, count=1, average=64 B\n",
      "c:\\Users\\bhumi\\Documents\\bhumit-python\\myenv\\Lib\\site-packages\\decorator.py:232: size=64 B, count=1, average=64 B\n",
      "c:\\Users\\bhumi\\Documents\\bhumit-python\\myenv\\Lib\\site-packages\\IPython\\core\\interactiveshell.py:3566: size=64 B, count=1, average=64 B\n",
      "c:\\Users\\bhumi\\Documents\\bhumit-python\\myenv\\Lib\\site-packages\\IPython\\core\\interactiveshell.py:3515: size=64 B, count=1, average=64 B\n",
      "c:\\Users\\bhumi\\Documents\\bhumit-python\\myenv\\Lib\\site-packages\\IPython\\core\\interactiveshell.py:3303: size=64 B, count=1, average=64 B\n",
      "c:\\Users\\bhumi\\Documents\\bhumit-python\\myenv\\Lib\\site-packages\\IPython\\core\\interactiveshell.py:3300: size=64 B, count=1, average=64 B\n",
      "c:\\Users\\bhumi\\Documents\\bhumit-python\\myenv\\Lib\\site-packages\\jupyter_client\\session.py:200: size=48 B, count=1, average=48 B\n",
      "c:\\Users\\bhumi\\Documents\\bhumit-python\\myenv\\Lib\\site-packages\\IPython\\core\\interactiveshell.py:3505: size=48 B, count=1, average=48 B\n",
      "c:\\Users\\bhumi\\Documents\\bhumit-python\\myenv\\Lib\\site-packages\\IPython\\core\\history.py:835: size=48 B, count=1, average=48 B\n",
      "C:\\Program Files\\WindowsApps\\PythonSoftwareFoundation.Python.3.12_3.12.2288.0_x64__qbz5n2kfra8p0\\Lib\\concurrent\\futures\\_base.py:330: size=48 B, count=1, average=48 B\n",
      "c:\\Users\\bhumi\\Documents\\bhumit-python\\myenv\\Lib\\site-packages\\IPython\\core\\prefilter.py:317: size=47 B, count=1, average=47 B\n",
      "c:\\Users\\bhumi\\Documents\\bhumit-python\\myenv\\Lib\\site-packages\\zmq\\eventloop\\zmqstream.py:674: size=40 B, count=1, average=40 B\n",
      "c:\\Users\\bhumi\\Documents\\bhumit-python\\myenv\\Lib\\site-packages\\jupyter_client\\session.py:996: size=32 B, count=1, average=32 B\n",
      "c:\\Users\\bhumi\\Documents\\bhumit-python\\myenv\\Lib\\site-packages\\jupyter_client\\session.py:603: size=32 B, count=1, average=32 B\n",
      "c:\\Users\\bhumi\\Documents\\bhumit-python\\myenv\\Lib\\site-packages\\ipykernel\\iostream.py:637: size=32 B, count=1, average=32 B\n",
      "c:\\Users\\bhumi\\Documents\\bhumit-python\\myenv\\Lib\\site-packages\\ipykernel\\iostream.py:168: size=32 B, count=1, average=32 B\n",
      "c:\\Users\\bhumi\\Documents\\bhumit-python\\myenv\\Lib\\site-packages\\IPython\\core\\interactiveshell.py:3503: size=32 B, count=1, average=32 B\n",
      "c:\\Users\\bhumi\\Documents\\bhumit-python\\myenv\\Lib\\site-packages\\IPython\\core\\history.py:793: size=32 B, count=1, average=32 B\n",
      "c:\\Users\\bhumi\\Documents\\bhumit-python\\myenv\\Lib\\site-packages\\IPython\\core\\compilerop.py:192: size=32 B, count=1, average=32 B\n",
      "C:\\Program Files\\WindowsApps\\PythonSoftwareFoundation.Python.3.12_3.12.2288.0_x64__qbz5n2kfra8p0\\Lib\\concurrent\\futures\\_base.py:421: size=32 B, count=1, average=32 B\n",
      "C:\\Program Files\\WindowsApps\\PythonSoftwareFoundation.Python.3.12_3.12.2288.0_x64__qbz5n2kfra8p0\\Lib\\asyncio\\base_events.py:780: size=32 B, count=1, average=32 B\n",
      "c:\\Users\\bhumi\\Documents\\bhumit-python\\myenv\\Lib\\site-packages\\IPython\\core\\compilerop.py:172: size=28 B, count=1, average=28 B\n",
      "c:\\Users\\bhumi\\Documents\\bhumit-python\\myenv\\Lib\\site-packages\\IPython\\core\\interactiveshell.py:3485: size=8 B, count=1, average=8 B\n"
     ]
    }
   ],
   "source": [
    "main()"
   ]
  },
  {
   "cell_type": "code",
   "execution_count": null,
   "metadata": {},
   "outputs": [],
   "source": []
  }
 ],
 "metadata": {
  "kernelspec": {
   "display_name": "myenv",
   "language": "python",
   "name": "python3"
  },
  "language_info": {
   "codemirror_mode": {
    "name": "ipython",
    "version": 3
   },
   "file_extension": ".py",
   "mimetype": "text/x-python",
   "name": "python",
   "nbconvert_exporter": "python",
   "pygments_lexer": "ipython3",
   "version": "3.12.8"
  }
 },
 "nbformat": 4,
 "nbformat_minor": 2
}
