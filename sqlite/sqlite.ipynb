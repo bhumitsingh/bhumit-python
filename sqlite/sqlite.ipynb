{
 "cells": [
  {
   "cell_type": "markdown",
   "metadata": {},
   "source": [
    "# SQL and SQLite\n",
    "SQL (Structured Query Language) is a standard language for managing and manipulating relational databases. SQLite is a self-contained, serverless, and zero-configuration database engine that is widely used for embedded database systems."
   ]
  },
  {
   "cell_type": "code",
   "execution_count": 16,
   "metadata": {},
   "outputs": [],
   "source": [
    "import sqlite3"
   ]
  },
  {
   "cell_type": "code",
   "execution_count": 17,
   "metadata": {},
   "outputs": [
    {
     "data": {
      "text/plain": [
       "<sqlite3.Connection at 0x1a8e55ad7b0>"
      ]
     },
     "execution_count": 17,
     "metadata": {},
     "output_type": "execute_result"
    }
   ],
   "source": [
    "### Connect to a SQLite database\n",
    "connection = sqlite3.connect('example.db')\n",
    "connection"
   ]
  },
  {
   "cell_type": "code",
   "execution_count": 18,
   "metadata": {},
   "outputs": [],
   "source": [
    "cursor = connection.cursor()  # Create a cursor object"
   ]
  },
  {
   "cell_type": "code",
   "execution_count": 19,
   "metadata": {},
   "outputs": [],
   "source": [
    "## Create a table\n",
    "cursor.execute('''\n",
    "Create Table If Not Exists employees(\n",
    "    id INTEGER PRIMARY KEY,\n",
    "    name TEXT NOT NULL,\n",
    "    age INTEGER,\n",
    "    department TEXT\n",
    ")\n",
    "''')\n",
    "\n",
    "## Commit the changes\n",
    "connection.commit()"
   ]
  },
  {
   "cell_type": "code",
   "execution_count": 20,
   "metadata": {},
   "outputs": [
    {
     "data": {
      "text/plain": [
       "<sqlite3.Cursor at 0x1a8e57b6e40>"
      ]
     },
     "execution_count": 20,
     "metadata": {},
     "output_type": "execute_result"
    }
   ],
   "source": [
    "cursor.execute('''\n",
    "Select * From employees\n",
    "''')"
   ]
  },
  {
   "cell_type": "code",
   "execution_count": 21,
   "metadata": {},
   "outputs": [],
   "source": [
    "## Insert data into table\n",
    "cursor.execute('''\n",
    "Insert Into employees(name, age, department)\n",
    "                Values('John Doe', 25, 'HR')\n",
    "''')\n",
    "cursor.execute('''\n",
    "Insert Into employees(name, age, department)\n",
    "                Values('Bhumit', 22, 'IT')\n",
    "''')\n",
    "\n",
    "## Commit the changes\n",
    "connection.commit()"
   ]
  },
  {
   "cell_type": "code",
   "execution_count": 22,
   "metadata": {},
   "outputs": [
    {
     "name": "stdout",
     "output_type": "stream",
     "text": [
      "(2, 'Bhumit', 22, 'IT')\n",
      "(4, 'Bhumit', 22, 'IT')\n",
      "(5, 'John Doe', 25, 'HR')\n",
      "(6, 'Bhumit', 22, 'IT')\n"
     ]
    }
   ],
   "source": [
    "## Query the database\n",
    "cursor.execute('''\n",
    "Select * From employees\n",
    "''')\n",
    "rows = cursor.fetchall()\n",
    "\n",
    "## Print the data\n",
    "for row in rows:\n",
    "    print(row)"
   ]
  },
  {
   "cell_type": "code",
   "execution_count": 24,
   "metadata": {},
   "outputs": [
    {
     "name": "stdout",
     "output_type": "stream",
     "text": [
      "(2, 'Bhumit', 22, 'IT')\n",
      "(4, 'Bhumit', 22, 'IT')\n",
      "(5, 'John Doe', 26, 'HR')\n",
      "(6, 'Bhumit', 22, 'IT')\n"
     ]
    }
   ],
   "source": [
    "## Update the data\n",
    "cursor.execute('''\n",
    "Update employees\n",
    "Set age = 26\n",
    "Where name = 'John Doe'\n",
    "''')\n",
    "connection.commit()\n",
    "\n",
    "cursor.execute('Select * From employees')\n",
    "rows = cursor.fetchall()\n",
    "\n",
    "for row in rows:\n",
    "    print(row)"
   ]
  },
  {
   "cell_type": "code",
   "execution_count": 13,
   "metadata": {},
   "outputs": [],
   "source": [
    "## Delete Data from table\n",
    "\n",
    "cursor.execute('''\n",
    "Delete From employees\n",
    "Where name = 'Bhumit'\n",
    "''')\n",
    "connection.commit()"
   ]
  },
  {
   "cell_type": "code",
   "execution_count": 25,
   "metadata": {},
   "outputs": [
    {
     "name": "stdout",
     "output_type": "stream",
     "text": [
      "(2, 'Bhumit', 22, 'IT')\n",
      "(4, 'Bhumit', 22, 'IT')\n",
      "(5, 'John Doe', 26, 'HR')\n",
      "(6, 'Bhumit', 22, 'IT')\n"
     ]
    }
   ],
   "source": [
    "cursor.execute('Select * From employees')\n",
    "rows = cursor.fetchall()\n",
    "\n",
    "for row in rows:\n",
    "    print(row)"
   ]
  },
  {
   "cell_type": "code",
   "execution_count": 26,
   "metadata": {},
   "outputs": [],
   "source": [
    "## Working with Sales Data\n",
    "## Connect to a SQLite database\n",
    "connection = sqlite3.connect('sales_data.db')\n",
    "cursor = connection.cursor()\n",
    "\n",
    "# Create a table\n",
    "cursor.execute('''\n",
    "Create Table if not Exists sales(\n",
    "                id INTEGER PRIMARY KEY,\n",
    "                date TEXT not null,\n",
    "                product TEXT not null,\n",
    "                sales INTEGER,\n",
    "                region TEXT\n",
    "               )\n",
    "''')\n",
    "\n",
    "# Insert data into table\n",
    "sales_data = [\n",
    "    ('2020-01-01', 'Laptop', 1000, 'North'),\n",
    "    ('2020-01-01', 'Laptop', 1200, 'North'),\n",
    "    ('2020-01-01', 'Printer', 300, 'South'),\n",
    "    ('2020-01-02', 'Laptop', 1000, 'North'),\n",
    "    ('2020-01-02', 'Laptop', 1200, 'North'),\n",
    "    ('2020-01-02', 'Printer', 300, 'South'),\n",
    "    ('2020-01-03', 'Laptop', 1000, 'North'),\n",
    "    ('2020-01-03', 'Laptop', 1200, 'North'),\n",
    "    ('2020-01-03', 'Printer', 300, 'South')\n",
    "]\n",
    "\n",
    "cursor.executemany('''\n",
    "Insert Into sales(date, product, sales, region)\n",
    "                Values(?, ?, ?, ?)\n",
    "''', sales_data)\n",
    "\n",
    "connection.commit()"
   ]
  },
  {
   "cell_type": "code",
   "execution_count": 27,
   "metadata": {},
   "outputs": [
    {
     "name": "stdout",
     "output_type": "stream",
     "text": [
      "(1, '2020-01-01', 'Laptop', 1000, 'North')\n",
      "(2, '2020-01-01', 'Laptop', 1200, 'North')\n",
      "(3, '2020-01-01', 'Printer', 300, 'South')\n",
      "(4, '2020-01-02', 'Laptop', 1000, 'North')\n",
      "(5, '2020-01-02', 'Laptop', 1200, 'North')\n",
      "(6, '2020-01-02', 'Printer', 300, 'South')\n",
      "(7, '2020-01-03', 'Laptop', 1000, 'North')\n",
      "(8, '2020-01-03', 'Laptop', 1200, 'North')\n",
      "(9, '2020-01-03', 'Printer', 300, 'South')\n"
     ]
    }
   ],
   "source": [
    "cursor.execute('Select * From sales')\n",
    "rows = cursor.fetchall()\n",
    "\n",
    "for row in rows:\n",
    "    print(row)"
   ]
  },
  {
   "cell_type": "code",
   "execution_count": 28,
   "metadata": {},
   "outputs": [],
   "source": [
    "# Close the connection\n",
    "connection.close()"
   ]
  },
  {
   "cell_type": "code",
   "execution_count": null,
   "metadata": {},
   "outputs": [],
   "source": []
  },
  {
   "cell_type": "code",
   "execution_count": null,
   "metadata": {},
   "outputs": [],
   "source": []
  }
 ],
 "metadata": {
  "kernelspec": {
   "display_name": "myenv",
   "language": "python",
   "name": "python3"
  },
  "language_info": {
   "codemirror_mode": {
    "name": "ipython",
    "version": 3
   },
   "file_extension": ".py",
   "mimetype": "text/x-python",
   "name": "python",
   "nbconvert_exporter": "python",
   "pygments_lexer": "ipython3",
   "version": "3.12.8"
  }
 },
 "nbformat": 4,
 "nbformat_minor": 2
}
